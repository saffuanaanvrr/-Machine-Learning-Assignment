{
 "cells": [
  {
   "cell_type": "code",
   "execution_count": 3,
   "id": "e745433b-4703-491a-a98b-243d9f3aabb6",
   "metadata": {},
   "outputs": [
    {
     "name": "stdout",
     "output_type": "stream",
     "text": [
      "Return Likelihood Model Accuracy: 0.5\n",
      "Repurchase Likelihood Model Accuracy: 0.48\n"
     ]
    }
   ],
   "source": [
    "import pandas as pd\n",
    "import numpy as np\n",
    "import pickle\n",
    "from datetime import datetime\n",
    "from sklearn.model_selection import train_test_split\n",
    "from sklearn.preprocessing import StandardScaler, OneHotEncoder\n",
    "from sklearn.tree import DecisionTreeClassifier\n",
    "from sklearn.metrics import accuracy_score\n",
    "\n",
    "# Load the dataset\n",
    "df = pd.read_csv('synthetic_customer_data.csv')\n",
    "\n",
    "# Feature engineering\n",
    "df['LastPurchaseDate'] = pd.to_datetime(df['LastPurchaseDate'])\n",
    "df['DaysSinceLastPurchase'] = (pd.Timestamp.now() - df['LastPurchaseDate']).dt.days\n",
    "df = df.drop(columns=['LastPurchaseDate'])\n",
    "\n",
    "# Encode categorical features\n",
    "df = pd.get_dummies(df, columns=['Gender', 'ProductCategory'])\n",
    "\n",
    "# Define features and targets\n",
    "features = ['Age', 'AnnualIncome', 'TransactionHistory', 'PurchaseAmount', 'DaysSinceLastPurchase'] + \\\n",
    "           [col for col in df.columns if col.startswith('Gender_') or col.startswith('ProductCategory_')]\n",
    "target_return = 'ReturnLikelihood'\n",
    "target_repurchase = 'RepurchaseLikelihood'\n",
    "\n",
    "# Split the data\n",
    "X = df[features]\n",
    "y_return = df[target_return]\n",
    "y_repurchase = df[target_repurchase]\n",
    "\n",
    "X_train, X_test, y_train_return, y_test_return = train_test_split(X, y_return, test_size=0.2, random_state=42)\n",
    "X_train, X_test, y_train_repurchase, y_test_repurchase = train_test_split(X, y_repurchase, test_size=0.2, random_state=42)\n",
    "\n",
    "# Standardize numerical features\n",
    "scaler = StandardScaler()\n",
    "X_train[numeric_features] = scaler.fit_transform(X_train[numeric_features])\n",
    "X_test[numeric_features] = scaler.transform(X_test[numeric_features])\n",
    "\n",
    "# Train the models\n",
    "model_return = DecisionTreeClassifier(random_state=42)\n",
    "model_return.fit(X_train, y_train_return)\n",
    "\n",
    "model_repurchase = DecisionTreeClassifier(random_state=42)\n",
    "model_repurchase.fit(X_train, y_train_repurchase)\n",
    "\n",
    "# Predict and evaluate the models\n",
    "y_pred_return = model_return.predict(X_test)\n",
    "y_pred_repurchase = model_repurchase.predict(X_test)\n",
    "\n",
    "return_accuracy = accuracy_score(y_test_return, y_pred_return)\n",
    "repurchase_accuracy = accuracy_score(y_test_repurchase, y_pred_repurchase)\n",
    "\n",
    "print('Return Likelihood Model Accuracy:', return_accuracy)\n",
    "print('Repurchase Likelihood Model Accuracy:', repurchase_accuracy)\n",
    "\n",
    "# Save the models using pickle\n",
    "with open('model_return.pkl', 'wb') as f:\n",
    "    pickle.dump(model_return, f)\n",
    "\n",
    "with open('model_repurchase.pkl', 'wb') as f:\n",
    "    pickle.dump(model_repurchase, f)\n"
   ]
  },
  {
   "cell_type": "code",
   "execution_count": null,
   "id": "16190f42-f7d9-4d06-b37d-bd5ec9ac90b5",
   "metadata": {},
   "outputs": [],
   "source": []
  }
 ],
 "metadata": {
  "kernelspec": {
   "display_name": "Python 3 (ipykernel)",
   "language": "python",
   "name": "python3"
  },
  "language_info": {
   "codemirror_mode": {
    "name": "ipython",
    "version": 3
   },
   "file_extension": ".py",
   "mimetype": "text/x-python",
   "name": "python",
   "nbconvert_exporter": "python",
   "pygments_lexer": "ipython3",
   "version": "3.11.4"
  }
 },
 "nbformat": 4,
 "nbformat_minor": 5
}
